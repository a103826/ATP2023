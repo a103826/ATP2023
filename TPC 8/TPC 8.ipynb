{
 "cells": [
  {
   "cell_type": "markdown",
   "metadata": {},
   "source": [
    "## TPC8: Teste de aferição\n",
    "\n",
    "Resolva os problemas apresentados a seguir."
   ]
  },
  {
   "cell_type": "markdown",
   "metadata": {},
   "source": [
    "### tpc-1. Especifique as seguintes listas em compreensão:"
   ]
  },
  {
   "cell_type": "markdown",
   "metadata": {},
   "source": [
    "#### a) Lista formada pelos elementos que não são comuns às duas listas:"
   ]
  },
  {
   "cell_type": "code",
   "execution_count": null,
   "metadata": {},
   "outputs": [
    {
     "name": "stdout",
     "output_type": "stream",
     "text": [
      "[1, 2, 3, 6, 7, 8]\n"
     ]
    }
   ],
   "source": [
    "lista1 = [1, 2, 3, 4, 5]\n",
    "lista2 = [4, 5, 6, 7, 8]  \n",
    "\n",
    "def naocomuns(lista1, lista2):\n",
    "    naocomuns = []\n",
    "    for n in lista1:\n",
    "        if n not in lista2:\n",
    "            naocomuns.append(n)\n",
    "    \n",
    "    for n in lista2:\n",
    "        if n not in lista1:\n",
    "            naocomuns.append(n)\n",
    "        \n",
    "    return naocomuns\n",
    "\n",
    "print (naocomuns(lista1,lista2))\n"
   ]
  },
  {
   "cell_type": "markdown",
   "metadata": {},
   "source": [
    "#### b) Lista formada pelas palavras do texto compostas por mais de 3 letras:"
   ]
  },
  {
   "cell_type": "code",
   "execution_count": null,
   "metadata": {},
   "outputs": [
    {
     "name": "stdout",
     "output_type": "stream",
     "text": [
      "['Vivia', 'poucos', 'anos', 'algures', 'concelho', 'Ribatejo', 'pequeno', 'lavrador', 'negociante', 'gado', 'chamado', 'Manuel', 'Peres', 'Vigário']\n"
     ]
    }
   ],
   "source": [
    "texto = \"\"\"Vivia há já não poucos anos algures num concelho do Ribatejo \n",
    "    um pequeno lavrador e negociante de gado chamado Manuel Peres Vigário\"\"\"\n",
    "\n",
    "lista = []\n",
    "txt = texto.split(\" \")\n",
    "for palavra in txt:\n",
    "    if len(palavra) > 3:\n",
    "        lista.append(palavra)\n",
    "\n",
    "print(lista)\n"
   ]
  },
  {
   "cell_type": "markdown",
   "metadata": {},
   "source": [
    "#### c) Lista formada por pares do tipo (índice, valor) com os valores da lista dada:"
   ]
  },
  {
   "cell_type": "code",
   "execution_count": null,
   "metadata": {},
   "outputs": [
    {
     "name": "stdout",
     "output_type": "stream",
     "text": [
      "[(1, 'anaconda'), (2, 'burro'), (3, 'cavalo'), (4, 'macaco')]\n"
     ]
    }
   ],
   "source": [
    "lista = ['anaconda', 'burro', 'cavalo', 'macaco']\n",
    "listaRes = []\n",
    "def pares(lista):\n",
    "    indice = 1\n",
    "    for valor in lista:\n",
    "        listaRes.append((indice,valor))\n",
    "        indice = indice + 1\n",
    "    return listaRes\n",
    "\n",
    "print(pares(lista))"
   ]
  },
  {
   "cell_type": "markdown",
   "metadata": {},
   "source": [
    "### tpc-2. À semelhança do que foi feito nas aulas, realize as seguintes tarefas:"
   ]
  },
  {
   "cell_type": "markdown",
   "metadata": {},
   "source": [
    "#### a) Especifique uma função que dada uma string e uma substring não vazia, calcula  o número de vezes em que a substring aparece na string, sem que haja sobreposição de substrings:"
   ]
  },
  {
   "cell_type": "code",
   "execution_count": null,
   "metadata": {},
   "outputs": [
    {
     "name": "stdout",
     "output_type": "stream",
     "text": [
      "2\n",
      "1\n",
      "0\n"
     ]
    }
   ],
   "source": [
    "def strCount(s, subs):\n",
    "    res = 0\n",
    "    t = len(subs)\n",
    "    palavra = \"\"\n",
    "    for n in s:\n",
    "        palavra = s[:t]\n",
    "        if palavra == subs:\n",
    "            res = res + 1\n",
    "        s = s[t:] \n",
    "    return res\n",
    "\n",
    "print(strCount(\"catcowcat\", \"cat\"))\n",
    "print(strCount(\"catcowcat\", \"cow\"))\n",
    "print(strCount(\"catcowcat\", \"dog\"))"
   ]
  },
  {
   "cell_type": "markdown",
   "metadata": {},
   "source": [
    "#### b) Especifique uma função que recebe uma lista de números inteiros positivos e devolve o menor produto que for possível calcular multiplicando os 3 menores inteiros da lista:"
   ]
  },
  {
   "cell_type": "code",
   "execution_count": null,
   "metadata": {},
   "outputs": [
    {
     "name": "stdout",
     "output_type": "stream",
     "text": [
      "168\n"
     ]
    }
   ],
   "source": [
    "def produtoM3(lista):\n",
    "    lista.sort()\n",
    "    return  lista[0] * lista[1] * lista[2] \n",
    "\n",
    "print(produtoM3([12,3,7,10,12,8,9]))"
   ]
  },
  {
   "cell_type": "markdown",
   "metadata": {},
   "source": [
    "#### c) Especifique uma função que dado um número inteiro positivo, repetidamente adiciona os seus dígitos até obter apenas um dígito que é retornado como resultado:"
   ]
  },
  {
   "cell_type": "code",
   "execution_count": null,
   "metadata": {},
   "outputs": [
    {
     "name": "stdout",
     "output_type": "stream",
     "text": [
      "2\n",
      "3\n"
     ]
    }
   ],
   "source": [
    "def reduxInt(n):\n",
    "    while n > 9:\n",
    "        soma = 0\n",
    "        for x in str(n):\n",
    "            soma = soma + int(x)\n",
    "        n = soma\n",
    "    return n\n",
    "\n",
    "print(reduxInt(38))\n",
    "print(reduxInt(777))"
   ]
  },
  {
   "cell_type": "markdown",
   "metadata": {},
   "source": [
    "#### d) Especifique uma função que recebe duas strings, `string1` e `string2`, e devolve o índice da primeira ocorrência de `string2` em `string1`, caso não ocorra nenhuma vez a função deverá retornar `-1`:"
   ]
  },
  {
   "cell_type": "code",
   "execution_count": null,
   "metadata": {},
   "outputs": [
    {
     "name": "stdout",
     "output_type": "stream",
     "text": [
      "13\n",
      "-1\n"
     ]
    }
   ],
   "source": [
    "def myIndexOf(s1, s2):\n",
    "    ocorrencia = \"\"\n",
    "    i = 0\n",
    "    indice = []\n",
    "    encontrado = False\n",
    "    for n in s1:\n",
    "        if n != \" \":\n",
    "            i = i + 1\n",
    "            ocorrencia = ocorrencia + n\n",
    "        else:\n",
    "            if ocorrencia == s2:\n",
    "                res = i - len(ocorrencia)\n",
    "                encontrado = True\n",
    "                indice.append(res)\n",
    "            else:\n",
    "                i = i + 1\n",
    "                ocorrencia = \"\"\n",
    "\n",
    "        if encontrado == True:\n",
    "            final = indice[0]\n",
    "        else:\n",
    "            final = -1\n",
    "\n",
    "    return final\n",
    "\n",
    "print(myIndexOf(\"Hoje está um belo dia de sol!\",\"belo\"))\n",
    "print(myIndexOf(\"Hoje está um belo dia de sol!\",\"chuva\"))"
   ]
  },
  {
   "cell_type": "markdown",
   "metadata": {},
   "source": [
    "### tpc-3. A Rede Social\n",
    "\n",
    "Considere que a informação sobre uma rede social está armazenada numa lista de dicionários.\n",
    "\n",
    "Cada dicionário, correspondente a um _post_ e tem chaves `id`, `conteudo`, `autor`, `dataCriacao` e `comentarios`.\n",
    "Por sua vez, `comentarios` é uma lista de dicionários com chaves `comentario` e `autor`.\n",
    "\n",
    "Considere o seguinte exemplo:\n",
    "\n",
    "``` \n",
    "    MyFaceBook = [{\n",
    "        'id': 'p1', \n",
    "        'conteudo': 'A tarefa de avaliação é talvez a mais ingrata das tarefas que um professor\n",
    "    tem de realizar...', \n",
    "        'autor': 'jcr', \n",
    "        'dataCriacao': '2023-07-20', \n",
    "        'comentarios': [\n",
    "            {\n",
    "                'comentario': 'Completamente de acordo...',\n",
    "                'autor': 'prh'\n",
    "            },\n",
    "            {\n",
    "                'comentario': 'Mas há quem goste...',\n",
    "                'autor': 'jj'\n",
    "            }\n",
    "        ]},\n",
    "        {\n",
    "            'id': 'p2',\n",
    "            ...\n",
    "        },\n",
    "        ...\n",
    "        ]\n",
    "```"
   ]
  },
  {
   "cell_type": "markdown",
   "metadata": {},
   "source": [
    "Defina as seguintes funções de manipulação e consulta da rede social:"
   ]
  },
  {
   "cell_type": "code",
   "execution_count": null,
   "metadata": {},
   "outputs": [],
   "source": [
    "MyFaceBook = [{\n",
    "        'id': 'p1', \n",
    "        'conteudo': 'A tarefa de avaliação é talvez a mais ingrata das tarefas que um professor tem de realizar...', \n",
    "        'autor': 'jcr', \n",
    "        'dataCriacao': '2023-07-20', \n",
    "        'comentarios': [\n",
    "            {\n",
    "                'comentario': 'Completamente de acordo...',\n",
    "                'autor': 'prh'\n",
    "            },\n",
    "            {\n",
    "                'comentario': 'Mas há quem goste...',\n",
    "                'autor': 'jj'\n",
    "            }\n",
    "        ]},\n",
    "        {\n",
    "            'id': 'p2',\n",
    "            'conteudo': 'A tarefa de avaliação é talvez a mais ingrata das tarefas que um professor tem de realizar...', \n",
    "        'autor': 'aaa', \n",
    "        'dataCriacao': '2023-07-20', \n",
    "        'comentarios': [\n",
    "            {\n",
    "                'comentario': 'Completamente de acordo...',\n",
    "                'autor': 'prh'\n",
    "            },\n",
    "            {\n",
    "                'comentario': 'Mas há quem goste...',\n",
    "                'autor': 'jj'\n",
    "            }\n",
    "        ]}\n",
    "        ]"
   ]
  },
  {
   "cell_type": "markdown",
   "metadata": {},
   "source": [
    "#### a) `quantosPost`, que indica quantos posts estão registados:"
   ]
  },
  {
   "cell_type": "code",
   "execution_count": null,
   "metadata": {},
   "outputs": [
    {
     "name": "stdout",
     "output_type": "stream",
     "text": [
      "2\n"
     ]
    }
   ],
   "source": [
    "def quantosPost(redeSocial):\n",
    "    n = 0\n",
    "    for posts in redeSocial:\n",
    "        n = n + 1\n",
    "    return n\n",
    "\n",
    "print (quantosPost(MyFaceBook))"
   ]
  },
  {
   "cell_type": "markdown",
   "metadata": {},
   "source": [
    "#### b)  `postsAutor`, que devolve a lista de posts de um determinado autor:"
   ]
  },
  {
   "cell_type": "code",
   "execution_count": null,
   "metadata": {},
   "outputs": [
    {
     "data": {
      "text/plain": [
       "[{'id': 'p1',\n",
       "  'conteudo': 'A tarefa de avaliação é talvez a mais ingrata das tarefas que um professor tem de realizar...',\n",
       "  'autor': 'jcr',\n",
       "  'dataCriacao': '2023-07-20',\n",
       "  'comentarios': [{'comentario': 'Completamente de acordo...', 'autor': 'prh'},\n",
       "   {'comentario': 'Mas há quem goste...', 'autor': 'jj'}]}]"
      ]
     },
     "metadata": {},
     "output_type": "display_data"
    }
   ],
   "source": [
    "def postsAutor(redeSocial, autor):\n",
    "    lista=[]\n",
    "    for post in redeSocial:\n",
    "        if post[\"autor\"] == autor:\n",
    "            lista.append(post)\n",
    "    return lista\n",
    "\n",
    "postsAutor(MyFaceBook,\"jcr\")"
   ]
  },
  {
   "cell_type": "markdown",
   "metadata": {},
   "source": [
    "#### c) `autores`, que devolve a lista de autores de posts ordenada alfabeticamente:"
   ]
  },
  {
   "cell_type": "code",
   "execution_count": null,
   "metadata": {},
   "outputs": [
    {
     "data": {
      "text/plain": [
       "['jcr', 'aaa']"
      ]
     },
     "metadata": {},
     "output_type": "display_data"
    }
   ],
   "source": [
    "def autores(redeSocial):\n",
    "    lista=[]\n",
    "    for post in redeSocial:\n",
    "        lista.append(post[\"autor\"])\n",
    "    return  lista\n",
    "\n",
    "autores(MyFaceBook)"
   ]
  },
  {
   "cell_type": "markdown",
   "metadata": {},
   "source": [
    "#### d) `insPost`, que acrescenta um novo post à rede social a partir dos parâmetros recebidos e devolve a nova rede social. \n",
    "    \n",
    "O campo `id` devrá ser calculado a partir dos já existentes, por exemplo, se a rede tiver posts com id `p1`, `p2` e `p3`, o novo `id` deverá ser `p4`."
   ]
  },
  {
   "cell_type": "code",
   "execution_count": null,
   "metadata": {},
   "outputs": [
    {
     "name": "stdout",
     "output_type": "stream",
     "text": [
      "[{'id': 'p1', 'conteudo': 'A tarefa de avaliação é talvez a mais ingrata das tarefas que um professor tem de realizar...', 'autor': 'jcr', 'dataCriacao': '2023-07-20', 'comentarios': [{'comentario': 'Completamente de acordo...', 'autor': 'prh'}, {'comentario': 'Mas há quem goste...', 'autor': 'jj'}]}, {'id': 'p2', 'conteudo': 'A tarefa de avaliação é talvez a mais ingrata das tarefas que um professor tem de realizar...', 'autor': 'aaa', 'dataCriacao': '2023-07-20', 'comentarios': [{'comentario': 'Completamente de acordo...', 'autor': 'prh'}, {'comentario': 'Mas há quem goste...', 'autor': 'jj'}]}, {'id': 'p3', 'conteudo': 'conteudo', 'autor': 'autor', 'dataCriacao': 'dataCriacao', 'comentarios': 'comentarios'}, {'id': 'p4', 'conteudo': 'ola, ana', 'autor': 'ana', 'dataCriacao': '2023-11-22', 'comentarios': []}]\n"
     ]
    }
   ],
   "source": [
    "def insPost(redeSocial, conteudo, autor, dataCriacao, comentarios):\n",
    "    novopost={}\n",
    "    \n",
    "    ultimoPost=redeSocial[-1]\n",
    "    id_1=ultimoPost[\"id\"]\n",
    "    idnovo=\"p\"+f\"{int(id_1[1])+1}\"\n",
    "    y=-1\n",
    "    comentarios=[]\n",
    "    while y!=\"0\":\n",
    "        y=input(\"Insira um comentário e o seu autor. Quando terminar insira '0'\")\n",
    "        if y!=\"0\":\n",
    "            comment,autorComment=y.split(\",\")\n",
    "            comentario={\"comentário\":comment,\"autor\":autorComment}\n",
    "            comentarios.append(comentario)\n",
    "    novopost={\"id\":idnovo,\"conteudo\":conteudo,\"autor\":autor,\"dataCriacao\":dataCriacao,\"comentarios\":comentarios}\n",
    "    redeSocial.append(novopost)\n",
    "insPost(MyFaceBook,input(\"Escreva o contúdo do seu post...\"),input(\"Escreva o nome do autor...\"),input(\"Insira a data do post no seguinte formato: AAAA-MM-DD\"),\"comentarios\")\n",
    "print(MyFaceBook)"
   ]
  },
  {
   "cell_type": "markdown",
   "metadata": {},
   "source": [
    "#### e)  `remPost`, que remove um post da rede, correspondente ao `id` recebido."
   ]
  },
  {
   "cell_type": "code",
   "execution_count": null,
   "metadata": {},
   "outputs": [
    {
     "name": "stdout",
     "output_type": "stream",
     "text": [
      "[{'id': 'p1', 'conteudo': 'A tarefa de avaliação é talvez a mais ingrata das tarefas que um professor tem de realizar...', 'autor': 'jcr', 'dataCriacao': '2023-07-20', 'comentarios': [{'comentario': 'Completamente de acordo...', 'autor': 'prh'}, {'comentario': 'Mas há quem goste...', 'autor': 'jj'}]}, {'id': 'p2', 'conteudo': 'A tarefa de avaliação é talvez a mais ingrata das tarefas que um professor tem de realizar...', 'autor': 'aaa', 'dataCriacao': '2023-07-20', 'comentarios': [{'comentario': 'Completamente de acordo...', 'autor': 'prh'}, {'comentario': 'Mas há quem goste...', 'autor': 'jj'}]}, {'id': 'p3', 'conteudo': 'conteudo', 'autor': 'autor', 'dataCriacao': 'dataCriacao', 'comentarios': 'comentarios'}]\n"
     ]
    }
   ],
   "source": [
    "def remPost(redeSocial, id):\n",
    "    novopost = []\n",
    "    for post in redeSocial:\n",
    "        if post[\"id\"] != id:\n",
    "            novopost.append(post)\n",
    "    return novopost\n",
    "\n",
    "print (remPost(MyFaceBook, 'p4'))"
   ]
  },
  {
   "cell_type": "markdown",
   "metadata": {},
   "source": [
    "#### f) `postsPorAutor`, que devolve uma distribuição de posts por autor (à semelhança do que foi feito nas aulas)."
   ]
  },
  {
   "cell_type": "code",
   "execution_count": null,
   "metadata": {},
   "outputs": [
    {
     "name": "stdout",
     "output_type": "stream",
     "text": [
      "[('jcr', {'id': 'p1', 'conteudo': 'A tarefa de avaliação é talvez a mais ingrata das tarefas que um professor tem de realizar...', 'autor': 'jcr', 'dataCriacao': '2023-07-20', 'comentarios': [{'comentario': 'Completamente de acordo...', 'autor': 'prh'}, {'comentario': 'Mas há quem goste...', 'autor': 'jj'}]}), ('aaa', {'id': 'p2', 'conteudo': 'A tarefa de avaliação é talvez a mais ingrata das tarefas que um professor tem de realizar...', 'autor': 'aaa', 'dataCriacao': '2023-07-20', 'comentarios': [{'comentario': 'Completamente de acordo...', 'autor': 'prh'}, {'comentario': 'Mas há quem goste...', 'autor': 'jj'}]}), ('autor', {'id': 'p3', 'conteudo': 'conteudo', 'autor': 'autor', 'dataCriacao': 'dataCriacao', 'comentarios': 'comentarios'}), ('ana', {'id': 'p4', 'conteudo': 'ola, ana', 'autor': 'ana', 'dataCriacao': '2023-11-22', 'comentarios': []})]\n"
     ]
    }
   ],
   "source": [
    "def distribuição(redeSocial):\n",
    "    lista = []\n",
    "    for post in redeSocial:\n",
    "        res = (post['autor'], post)\n",
    "        lista.append(res)\n",
    "    return lista\n",
    "\n",
    "print (distribuição(MyFaceBook))"
   ]
  },
  {
   "cell_type": "markdown",
   "metadata": {},
   "source": [
    "#### g) `comentadoPor`, que recebe um autor e devolve a lista de posts comentados por esse autor."
   ]
  },
  {
   "cell_type": "code",
   "execution_count": null,
   "metadata": {},
   "outputs": [
    {
     "name": "stdout",
     "output_type": "stream",
     "text": [
      "[]\n"
     ]
    }
   ],
   "source": [
    "def comentadoPor(redeSocial, autor):\n",
    "    lista = []\n",
    "    for post in redeSocial:\n",
    "        if post['autor'] == autor:\n",
    "            for comentario in post['comentarios']:\n",
    "                if comentario['autor'] == autor:\n",
    "                    lista.append(post)\n",
    "    return lista\n",
    "\n",
    "print (comentadoPor(MyFaceBook,'jj'))"
   ]
  }
 ],
 "metadata": {
  "kernelspec": {
   "display_name": "Python 3",
   "language": "python",
   "name": "python3"
  },
  "language_info": {
   "name": "python",
   "version": "3.11.5"
  },
  "orig_nbformat": 4
 },
 "nbformat": 4,
 "nbformat_minor": 2
}
