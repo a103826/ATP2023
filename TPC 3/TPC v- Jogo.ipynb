{
 "cells": [
  {
   "cell_type": "markdown",
   "metadata": {},
   "source": [
    "## TPC3: Adivinha o número\n",
    "\n",
    "Desenvolve em Python o código necessário para o jogo do Adivinha o número. O jogo deverá ter dois modos: o computador tenta acertar no número que o jogador pensou ou, o jogador tenta acertar no número que o computador pensou. No fim, o programa deverá indicar quantas tentativas foram realizadas para chegar ao resultado.\n",
    "\n",
    "Que conclusão podes tirar sobre o número de tentativas necessárias para um números entre 0 e 100?\n",
    "E se fosse entre 0 e 1000?"
   ]
  },
  {
   "cell_type": "code",
   "execution_count": 2,
   "metadata": {},
   "outputs": [
    {
     "name": "stdout",
     "output_type": "stream",
     "text": [
      "Escolha um número\n",
      "O seu número é 5?\n",
      "O seu número é 40?\n",
      "O seu número é 68?\n",
      "O seu número é 83?\n",
      "O seu número é 93?\n",
      "O seu número é 95?\n",
      "O seu número é 99?\n",
      "O seu número é 98?\n",
      "O seu número é 97?\n",
      "O computador acertou em 9 tentativas.\n"
     ]
    }
   ],
   "source": [
    "modo = int(input(\"Escolha o modo de jogo: 0 - Adivinhe o número do computador 1 - O computador adivinha o seu número\"))\n",
    "maior = 100\n",
    "menor = 0\n",
    "tent = 0\n",
    "import random\n",
    "if modo == 0:\n",
    "    numero1 = int(random.randrange(0,100))\n",
    "    n = int(input(\"Diga um número\"))\n",
    "    while n != numero1:\n",
    "        if numero1 > int(n):\n",
    "            print (\"O número é maior que \" + str(n))\n",
    "        elif numero1 < int(n):\n",
    "            print (\"O número é menor que \" + str(n))\n",
    "        tent = tent + 1\n",
    "        n = int(input(\"Diga outro número\"))\n",
    "    print(\"O número correto é \" + str(n) + \".\")\n",
    "    print(\"Acertou em \" + str(tent) + \" tentativas.\")\n",
    "elif modo == 1:\n",
    "    print(\"Escolha um número\")\n",
    "    numero2 = int(random.randrange(0,100))\n",
    "    resposta = \"\"\n",
    "    while resposta != (\"igual\"):\n",
    "        print(\"O seu número é \" + str(numero2) + \"?\")\n",
    "        resposta = input(\"O seu número é maior, menor ou igual a \" + str(numero2) + \"?\")\n",
    "        if resposta == (\"menor\"):\n",
    "            maior = numero2 + 1\n",
    "        elif resposta == (\"maior\"):\n",
    "            menor = numero2 + 1\n",
    "        numero2 = int(random.randrange(menor,maior))\n",
    "        tent = tent + 1\n",
    "    print(\"O computador acertou em \" + str(tent) + \" tentativas.\")\n",
    "\n"
   ]
  }
 ],
 "metadata": {
  "kernelspec": {
   "display_name": "Python 3",
   "language": "python",
   "name": "python3"
  },
  "language_info": {
   "codemirror_mode": {
    "name": "ipython",
    "version": 3
   },
   "file_extension": ".py",
   "mimetype": "text/x-python",
   "name": "python",
   "nbconvert_exporter": "python",
   "pygments_lexer": "ipython3",
   "version": "3.11.5"
  },
  "orig_nbformat": 4
 },
 "nbformat": 4,
 "nbformat_minor": 2
}
